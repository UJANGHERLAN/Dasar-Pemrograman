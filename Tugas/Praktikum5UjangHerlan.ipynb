{
 "cells": [
  {
   "cell_type": "markdown",
   "metadata": {
    "deletable": false,
    "editable": false
   },
   "source": [
    "<h1>Input</h1>\n",
    "\n",
    "Input terdiri dari 2 jenis yaitu\n",
    "<ol>\n",
    "    <li>Statis (Hardcode)</li>\n",
    "    <li>Dinamis</li>\n",
    "</ol>\n",
    "        \n",
    "Input secara statis adalah memberikan nilai kepada variabel secara langsung pada kode program<br>\n",
    "Misal:\n",
    "```python\n",
    "hari = \"Minggu\"\n",
    "tanggal = 21\n",
    "bulan = \"Oktober\"\n",
    "tahun = \"2021\"\n",
    "```\n",
    "Sedangkan input secara dinamis yaitu program menunggu input dari user dimana kursor akan menjadi mode teks dan berkedip-kedip. Input secara dinamis menggunakan fungsi <b>input(s)</b> dimana <b>s</b> adalah string label sebagai keterangan. Berikut ini adalah contoh input dinamis\n",
    "```python\n",
    "matakuliah_1 = input('Mata kuliah 1 yang diambil : ')\n",
    "matakuliah_2 = input('Mata kuliah 2 yang diambil : ')\n",
    "print(f\"Anda mengambil mata kuliah  {matakuliah_1} dan {matakuliah_2}\")\n",
    "```\n",
    "<h3>Latihan</h3>\n",
    "<ol>\n",
    "    <li>Buatlah variabel dengan nama hobi, yang digunakan untuk menampung input dari user dengan label \"Hobi kamu apa? : \" , kemudian Cetaklah dengan label <b>Hobi kamu : {hobi}</b></li>\n",
    "    <li>Buatlah variabel nama, yang digunakan untuk menampung input dari user dengan label \"Siapa nama kamu? : \" , misal user mengisikan nama \"Romi\" maka akan tampil output <b>Nama kamu berawalan huruf R</b></li>\n",
    "</ol>"
   ]
  },
  {
   "cell_type": "code",
   "execution_count": null,
   "metadata": {},
   "outputs": [],
   "source": [
    "#Code here\n",
    "..."
   ]
  },
  {
   "cell_type": "markdown",
   "metadata": {},
   "source": [
    "<details>\n",
    "    <summary><font color=\"red\">Click Here </font> to See the Answer No.1</summary>\n",
    "\n",
    "Jawaban No. 1\n",
    "    \n",
    "```python\n",
    "hobi = input('Hobi kamu apa? :')\n",
    "print(f\"Hobi kamu {hobi}\")\n",
    "```\n",
    "</details>"
   ]
  },
  {
   "cell_type": "markdown",
   "metadata": {},
   "source": [
    "<details>\n",
    "    <summary><font color=\"red\">Click Here </font> to See the Answer No.2</summary>\n",
    "\n",
    "Jawaban No. 2\n",
    "    \n",
    "```python\n",
    "nama = input('Siapa nama kamu :')\n",
    "print(f\"Nama kamu berawalan huruf {nama[0]}\")\n",
    "```\n",
    "</details>"
   ]
  },
  {
   "cell_type": "markdown",
   "metadata": {},
   "source": [
    "<h1>Random Bilangan</h1>\n",
    "\n",
    "Nilai Random adalah sebuah nilai acak yang dibangkitkan dari pseudocode acak, tapi hal tersebut tidak benar-benar acak. bagaimana mungkin mendapatkan nilai acak, jika masih menggunakan alur program. Random pada python dapat menghasilkan nilai berupa integer, float maupun string.\n",
    "Untuk membuat Random value maka dapat menggunakan fungsi <b>random</b>. Sebelum fungsi <b>random</b> digunakan, maka terlebih dahulu harus melakukan import library. Perhatikan contoh berikut ini:\n",
    "\n",
    "<h3>Random Float</h3>\n",
    "\n",
    "```python\n",
    "# mengimport library random\n",
    "from random import random\n",
    "# mengacak bilangan float\n",
    "nilai = random()\n",
    "# mencetak bilangan random\n",
    "print(nilai)\n",
    "```\n",
    "\n",
    "<h3>Random Integer</h3>\n",
    "\n",
    "```python\n",
    "# mengimport library random\n",
    "from random import randint\n",
    "# mengacak bilangan integer dengan range 0-10\n",
    "nilai = randint(0,10)\n",
    "# mencetak bilangan random\n",
    "print(nilai)\n",
    "```\n",
    "<h3>Random Choice</h3>\n",
    "\n",
    "```python\n",
    "from random import choice\n",
    " \n",
    "# list of month\n",
    "bulan = [\"Jan\", \"Feb\", \"Mar\", \"Apr\", \"May\",\"Jun\",\"Jul\",\"Aug\",\"Sep\",\"Oct\",\"Nov\",\"Des\"]\n",
    " \n",
    "# memilih dari list scr acak\n",
    "pilih_bulan = choice(bulan)\n",
    "print(pilih_bulan)\n",
    "```\n",
    "\n",
    "<h3>Latihan</h3>\n",
    "\n",
    "<ol>\n",
    "    <li>Buatlah program tebak hasil dari perkalian dari 2 angka dari 0 sampai 100, jika user menjawab benar maka tampil <b>Jawaban anda True</b> dan jika salah, maka akan tampil <b>Jawaban anda False</b></li>\n",
    "</ol>"
   ]
  },
  {
   "cell_type": "code",
   "execution_count": 3,
   "metadata": {},
   "outputs": [
    {
     "name": "stdout",
     "output_type": "stream",
     "text": [
      "Berapa hasil perkalian dari 63 dan 38 ? = 54\n",
      "Jawaban anda False\n"
     ]
    }
   ],
   "source": [
    "#Code Here\n",
    "from random import randint\n",
    "\n",
    "nilai1 = randint(0,100)\n",
    "nilai2 = randint(0,100)\n",
    "hasil = nilai1 * nilai2\n",
    "\n",
    "jawab = int(input(\"Berapa hasil perkalian dari {} dan {} ? = \".format(nilai1,nilai2)))\n",
    "print(\"Jawaban anda {}\".format(jawab==hasil))"
   ]
  },
  {
   "cell_type": "markdown",
   "metadata": {},
   "source": [
    "<details>\n",
    "    <summary><font color=\"red\">Click Here </font> to See the Answer No.1</summary>\n",
    "\n",
    "Jawaban Tebak Perkalian 2 Angka\n",
    "    \n",
    "```python\n",
    "from random import randint\n",
    "angka_1 = randint(0,100)\n",
    "angka_2 = randint(0,100)\n",
    "\n",
    "hasil = int(input(f\"Berapakah hasil perkalian {angka_1} dan {angka_2} : \"))\n",
    "print(f\"Jawaban anda {hasil==angka_1 * angka_2}\")\n",
    "```\n",
    "</details>"
   ]
  },
  {
   "cell_type": "markdown",
   "metadata": {},
   "source": [
    "\n",
    "<h1>Output</h1>\n",
    "\n",
    "Output adalah sebuah hasil keluaran dari sebuah program. Output terdiri dari ada 2 jenis yaitu:\n",
    "<ol>\n",
    "    <li>Output yang ditampilkan di layar (CLI)</li>\n",
    "\t<li>Output yang (ditulis) dalam bentuk file</li>\n",
    "</ol>\n",
    "Pada kesempatan kali ini, kita hanya akan membahas jenis output yang pertama yaitu output yang ditampilkan di layar (secara CLI), sehingga pembahasannya akan lebih banyak mengenai variasi cara menggunakan fungsi print() pada python.\n",
    "\n",
    "<h3>Fungsi print()</h3>\n",
    "\n",
    "Fungsi dasar print()\n",
    "```python\n",
    "print('Selamat kuliah')\n",
    "```\n",
    "Fungsi print multi argument\n",
    "```python\n",
    "print('Budi','Roni','Andri')\n",
    "```\n",
    "Fungsi print fstring\n",
    "```python\n",
    "nama = 'Lita'\n",
    "print(f\"Selamat datang {nama}\")\n",
    "```\n",
    "Fungsi print dengan tanda pemisah\n",
    "```python\n",
    "print('andi','tedi','fahmi',sep='\\U0001F600')\n",
    "print(\"\\N{smiling face with halo}\")\n",
    "```\n",
    "Fungsi print dengan format\n",
    "```python\n",
    "a=10\n",
    "b=15\n",
    "c=20\n",
    "print('{} + {} + {} adalah {}'.format(a,b,c,a+b+c))\n",
    "```\n",
    "Fungsi print dengan index\n",
    "```python\n",
    "print('{} dan {}'.format('Roni','Huda'))\n",
    "print('{1} dan {0}'.format('Roni','Huda'))\n",
    "```\n",
    "\n",
    "<h3>Latihan</h3>\n",
    "Carilah kode CLDR Names dan unicode dari emoji, dan cetaklah menggunakan fungsi print"
   ]
  },
  {
   "cell_type": "code",
   "execution_count": 7,
   "metadata": {},
   "outputs": [
    {
     "name": "stdout",
     "output_type": "stream",
     "text": [
      "Emoji Yang Muncul :😀\n",
      "Emoji Yang Muncul :🙂\n",
      "Emoji Yang Muncul :😉\n",
      "Emoji Yang Muncul :😠\n",
      "Emoji Yang Muncul :🤣\n"
     ]
    }
   ],
   "source": [
    "#Code here\n",
    "print(\"Emoji Yang Muncul :\\N{grinning face}\")\n",
    "print(\"Emoji Yang Muncul :\\N{slightly smiling face}\")\n",
    "print(\"Emoji Yang Muncul :\\N{winking face}\")\n",
    "print(\"Emoji Yang Muncul :\\N{angry face}\")\n",
    "print(\"Emoji Yang Muncul :\\N{rolling on the floor laughing}\")"
   ]
  },
  {
   "cell_type": "markdown",
   "metadata": {},
   "source": [
    "<h1>String</h1>\n",
    "String adalah kumpulan dari beberapa karakter. String dibuat dengan tanda petik tunggal (') atau ganda (\")\n",
    "Contoh:\n",
    "\n",
    "```python\n",
    "kota ='Surabaya'\n",
    "provinsi ='Jawa Timur'\n",
    "```\n",
    "Karena string tersusun dari kumpulan karakter, maka string dapat diambil per karakternya menggunakan index yang diapit oleh kurung siku [] atau dengan range [indeks-awal:indeks-akhir]\n",
    "Contoh:\n",
    "```python\n",
    "kalimat = 'Apa kabar semua hari ini?'\n",
    "print(kalimat[0]) #A\n",
    "print(kalimat[1]) #p\n",
    "print(kalimat[0:3]) #Apa\n",
    "print(kalimat[4:9]) #kabar\n",
    "print(kalimat[:-10]) #Apa kabar semua\n",
    "print(kalimat[-9:]) #hari ini?\n",
    "print(kalimat[-15:-5]) #semua hari\n",
    "```\n",
    "<h3>Latihan</h3>\n",
    "Jika terdapat sebuah string <b>Belajar Pemrograman Python</b> Maka tampilkan <b>output</b> berikut ini menggunakan fungsi <b>print</b><br>\n",
    "<ol>\n",
    "    <li>Belajar</li>\n",
    "    <li>ajar</li>\n",
    "    <li>Pemrograman</li>\n",
    "    <li>gram</li>\n",
    "    <li>Python</li>\n",
    "    <li>Py</li>\n",
    "    <li>gram Python</li>\n",
    "    <li>Pemrograman Python</li>\n",
    "</ol>\n"
   ]
  },
  {
   "cell_type": "code",
   "execution_count": 35,
   "metadata": {},
   "outputs": [
    {
     "name": "stdout",
     "output_type": "stream",
     "text": [
      "1.Kata Yang Keluar Adalah: Belajar\n",
      "2.Kata Yang Keluar Adalah: ajar\n",
      "3.Kata Yang Keluar Adalah: Pemrograman \n",
      "4.Kata Yang Keluar Adalah: gram\n",
      "5.Kata Yang Keluar Adalah: Python\n",
      "6.Kata Yang Keluar Adalah: Py\n",
      "7.Kata Yang Keluar Adalah: gram Python\n",
      "8.Kata Yang Keluar Adalah: Pemrograman Python\n"
     ]
    }
   ],
   "source": [
    "#Code here\n",
    "kata = \"Belajar ajar Pemrograman gram Python Py gram Python Pemrograman Python\"\n",
    "print(\"1.Kata Yang Keluar Adalah:\",kata[0:7])\n",
    "print(\"2.Kata Yang Keluar Adalah:\",kata[8:12])\n",
    "print(\"3.Kata Yang Keluar Adalah:\",kata[13:25])\n",
    "print(\"4.Kata Yang Keluar Adalah:\",kata[25:29])\n",
    "print(\"5.Kata Yang Keluar Adalah:\",kata[30:36])\n",
    "print(\"6.Kata Yang Keluar Adalah:\",kata[37:39])\n",
    "print(\"7.Kata Yang Keluar Adalah:\",kata[40:51])\n",
    "print(\"8.Kata Yang Keluar Adalah:\",kata[-18:])"
   ]
  },
  {
   "cell_type": "markdown",
   "metadata": {},
   "source": [
    "<h1>String Method</h1>\n",
    "String mempunyai banyak method yang dapat digunakan untuk mempercepat menyelesaikan permasalahan, diantaranya adalah:\n",
    "<h3>Upper</h3>\n",
    "Fungsi upper digunakan untuk mengubah string menjadi huruf kapital. Fungsi tersebut tidak memerlukan parameter/argumen \n",
    "\n",
    "```python\n",
    "kalimat = 'Belajar python sangat Mudah'\n",
    "kapital = kalimat.upper()\n",
    "print(kapital)\n",
    "```\n",
    "Jika program tersebut dijalankan akan menghasilkan output <b>BELAJAR PYTHON SANGAT MUDAH</b>\n",
    "\n",
    "<h3>Lower</h3>\n",
    "Fungsi lower digunakan untuk mengubah string menjadi huruf kecil. Fungsi tersebut tidak memerlukan parameter/argumen \n",
    "\n",
    "```python\n",
    "kalimat = 'Belajar python sangat Mudah'\n",
    "lcase = kalimat.lower()\n",
    "print(lcase)\n",
    "```\n",
    "Jika program tersebut dijalankan akan menghasilkan output <b>belajar python sangat mudah</b>\n",
    "\n",
    "<h3>Find</h3>\n",
    "Fungsi find digunakan untuk mencari string untuk nilai tertentu dan mengembalikan posisi ditemukan \n",
    "\n",
    "```python\n",
    "kalimat = 'Belajar python sangat Mudah'\n",
    "cari_huruf_p = kalimat.find('p')\n",
    "print(cari_huruf_p)\n",
    "```\n",
    "Jika program tersebut dijalankan akan menghasilkan output <b>8</b> artinya huruf p ada di urutan ke 8. Perlu diingat bahwa posisi indeks dimulai dari angka 0\n",
    "\n",
    "<h1>Latihan</h1>\n",
    "1. Buatlah program untuk mengecek bahwa sebuah email termasuk valid atau tidak. Valid diartikan <b>True</b> dan tidak valid diartikan <b>False</b>\n",
    "Berikut contoh <i>test case</i> yang bisa digunakan sebagai acuan \n",
    "<ol>\n",
    "    <li>alunsujjada@gmailcom -> False</li>\n",
    "    <li>alunsujjada@gmail.com -> True</li>\n",
    "    <li>alun.sujjada@gmail.com -> False</li>\n",
    "    <li>alunsujjada.gmail.com -> False</li>\n",
    "    <li>alun.sujjada@gmailcom -> False</li>\n",
    "</ol>"
   ]
  },
  {
   "cell_type": "code",
   "execution_count": 2,
   "metadata": {},
   "outputs": [
    {
     "name": "stdout",
     "output_type": "stream",
     "text": [
      "=====Menentukan Nilai True Atau False=====\n",
      "Masukan Email : ujang.herlan_ti22@nusaputra.ac.id\n",
      "ujang.herlan_ti22@nusaputra.ac.id  ->  False\n"
     ]
    }
   ],
   "source": [
    "#Code here\n",
    "print(\"=====Menentukan Nilai True Atau False=====\")\n",
    "email = input('Masukan Email : ')\n",
    "valid_email = '@gmail.com'\n",
    "if valid_email in email:\n",
    "    print(email, ' -> ', True)\n",
    "else:\n",
    "    print(email, ' -> ', False)"
   ]
  }
 ],
 "metadata": {
  "kernelspec": {
   "display_name": "Python 3 (ipykernel)",
   "language": "python",
   "name": "python3"
  },
  "language_info": {
   "codemirror_mode": {
    "name": "ipython",
    "version": 3
   },
   "file_extension": ".py",
   "mimetype": "text/x-python",
   "name": "python",
   "nbconvert_exporter": "python",
   "pygments_lexer": "ipython3",
   "version": "3.9.12"
  }
 },
 "nbformat": 4,
 "nbformat_minor": 4
}
