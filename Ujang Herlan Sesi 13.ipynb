{
 "cells": [
  {
   "cell_type": "markdown",
   "id": "46b1c1a6",
   "metadata": {},
   "source": [
    "<h1>Nama : Ujang Herlan\n",
    "Nim  : 20220040028\n",
    "Kelas : TI22F</h1>\n",
    "<h2>ImportError</h2>\n",
    "<p>importError muncul ketika Python tidak dapat menemukan modul yang diimpor atau tidak dapat memuat modul yang diimpor. Contoh:</p>\n",
    "<p>Dalam contoh di bawah kenepa terjadi error sebab seharusnya yang di import tersebut adalah calender sehingga nantinya akan memunculkan output kalender \n",
    "pada bulan 12 tahun 2012 namun dalam import tersebut tidak keditek module tersebeut</p>\n",
    "\n"
   ]
  },
  {
   "cell_type": "code",
   "execution_count": 4,
   "id": "606a3767",
   "metadata": {},
   "outputs": [
    {
     "ename": "ModuleNotFoundError",
     "evalue": "No module named 'myHerlan'",
     "output_type": "error",
     "traceback": [
      "\u001b[1;31m---------------------------------------------------------------------------\u001b[0m",
      "\u001b[1;31mModuleNotFoundError\u001b[0m                       Traceback (most recent call last)",
      "Cell \u001b[1;32mIn[4], line 1\u001b[0m\n\u001b[1;32m----> 1\u001b[0m \u001b[39mimport\u001b[39;00m \u001b[39mmyHerlan\u001b[39;00m\n\u001b[0;32m      2\u001b[0m yy \u001b[39m=\u001b[39m \u001b[39m2012\u001b[39m\n\u001b[0;32m      3\u001b[0m mm \u001b[39m=\u001b[39m \u001b[39m12\u001b[39m\n",
      "\u001b[1;31mModuleNotFoundError\u001b[0m: No module named 'myHerlan'"
     ]
    }
   ],
   "source": [
    "import myHerlan\n",
    "yy = 2012\n",
    "mm = 12\n",
    "\n",
    "print(myHerlan.month(yy, mm))"
   ]
  },
  {
   "cell_type": "markdown",
   "id": "dffa38f6",
   "metadata": {},
   "source": [
    "<h1>IOError</h1>\n",
    "IOError muncul ketika terjadi masalah I/O (input/output) pada saat mencoba melakukan operasi I/O, seperti membuka file, menulis ke file, dll. Contoh:\n",
    "\n",
    "Dalam contoh di dibawah, Python mencoba membuka file \"herlan.txt\" dengan mode \"r\" (read), tetapi file tersebut tidak ditemukan, sehingga menyebabkan IOError."
   ]
  },
  {
   "cell_type": "code",
   "execution_count": 9,
   "id": "af013f34",
   "metadata": {},
   "outputs": [
    {
     "ename": "FileNotFoundError",
     "evalue": "[Errno 2] No such file or directory: 'herlan.txt'",
     "output_type": "error",
     "traceback": [
      "\u001b[1;31m---------------------------------------------------------------------------\u001b[0m",
      "\u001b[1;31mFileNotFoundError\u001b[0m                         Traceback (most recent call last)",
      "Cell \u001b[1;32mIn[9], line 1\u001b[0m\n\u001b[1;32m----> 1\u001b[0m data \u001b[39m=\u001b[39m \u001b[39mopen\u001b[39;49m(\u001b[39m\"\u001b[39;49m\u001b[39mherlan.txt\u001b[39;49m\u001b[39m\"\u001b[39;49m,\u001b[39m'\u001b[39;49m\u001b[39mr\u001b[39;49m\u001b[39m'\u001b[39;49m)\n",
      "File \u001b[1;32m~\\AppData\\Roaming\\Python\\Python311\\site-packages\\IPython\\core\\interactiveshell.py:282\u001b[0m, in \u001b[0;36m_modified_open\u001b[1;34m(file, *args, **kwargs)\u001b[0m\n\u001b[0;32m    275\u001b[0m \u001b[39mif\u001b[39;00m file \u001b[39min\u001b[39;00m {\u001b[39m0\u001b[39m, \u001b[39m1\u001b[39m, \u001b[39m2\u001b[39m}:\n\u001b[0;32m    276\u001b[0m     \u001b[39mraise\u001b[39;00m \u001b[39mValueError\u001b[39;00m(\n\u001b[0;32m    277\u001b[0m         \u001b[39mf\u001b[39m\u001b[39m\"\u001b[39m\u001b[39mIPython won\u001b[39m\u001b[39m'\u001b[39m\u001b[39mt let you open fd=\u001b[39m\u001b[39m{\u001b[39;00mfile\u001b[39m}\u001b[39;00m\u001b[39m by default \u001b[39m\u001b[39m\"\u001b[39m\n\u001b[0;32m    278\u001b[0m         \u001b[39m\"\u001b[39m\u001b[39mas it is likely to crash IPython. If you know what you are doing, \u001b[39m\u001b[39m\"\u001b[39m\n\u001b[0;32m    279\u001b[0m         \u001b[39m\"\u001b[39m\u001b[39myou can use builtins\u001b[39m\u001b[39m'\u001b[39m\u001b[39m open.\u001b[39m\u001b[39m\"\u001b[39m\n\u001b[0;32m    280\u001b[0m     )\n\u001b[1;32m--> 282\u001b[0m \u001b[39mreturn\u001b[39;00m io_open(file, \u001b[39m*\u001b[39;49margs, \u001b[39m*\u001b[39;49m\u001b[39m*\u001b[39;49mkwargs)\n",
      "\u001b[1;31mFileNotFoundError\u001b[0m: [Errno 2] No such file or directory: 'herlan.txt'"
     ]
    }
   ],
   "source": [
    "data = open(\"herlan.txt\",'r')"
   ]
  },
  {
   "cell_type": "markdown",
   "id": "78c262d7",
   "metadata": {},
   "source": [
    "<h1>NameError</h1>\n",
    "NameError muncul ketika Python tidak dapat menemukan nama yang ditentukan dalam kode. Ini dapat terjadi karena beberapa alasan, seperti:\n",
    "\n",
    "<li>Anda menulis nama yang salah atau tidak sesuai</li>\n",
    "<li>Anda tidak mengimport modul yang berisi nama yang Anda panggil</li>\n",
    "<li>Anda mencoba untuk mengakses variabel yang tidak didefinisikan</li>\n",
    "Contoh:"
   ]
  },
  {
   "cell_type": "code",
   "execution_count": 12,
   "id": "4e34bc2f",
   "metadata": {},
   "outputs": [
    {
     "ename": "NameError",
     "evalue": "name 'myHerlan' is not defined",
     "output_type": "error",
     "traceback": [
      "\u001b[1;31m---------------------------------------------------------------------------\u001b[0m",
      "\u001b[1;31mNameError\u001b[0m                                 Traceback (most recent call last)",
      "Cell \u001b[1;32mIn[12], line 1\u001b[0m\n\u001b[1;32m----> 1\u001b[0m \u001b[39mprint\u001b[39m(myHerlan)\n",
      "\u001b[1;31mNameError\u001b[0m: name 'myHerlan' is not defined"
     ]
    }
   ],
   "source": [
    "print(myHerlan)"
   ]
  },
  {
   "cell_type": "markdown",
   "id": "e17cda33",
   "metadata": {},
   "source": [
    "Dalam contoh di atas, kita mencoba untuk mencetak nilai dari variabel myHerlan, tetapi variabel tersebut tidak pernah didefinisikan sebelumnya, sehingga Python mengeluarkan NameError"
   ]
  },
  {
   "cell_type": "markdown",
   "id": "aae55dfa",
   "metadata": {},
   "source": [
    "<h1>zeroDivisionError</h1>\n",
    "ZeroDivisionError muncul ketika Anda mencoba untuk membagi dengan nol (0) pada Python. Ini adalah kesalahan matematika yang tidak mungkin terjadi dalam dunia nyata dan tidak diizinkan dalam Python.\n",
    "\n",
    "Contoh:"
   ]
  },
  {
   "cell_type": "code",
   "execution_count": 17,
   "id": "4d20d553",
   "metadata": {},
   "outputs": [
    {
     "ename": "ZeroDivisionError",
     "evalue": "division by zero",
     "output_type": "error",
     "traceback": [
      "\u001b[1;31m---------------------------------------------------------------------------\u001b[0m",
      "\u001b[1;31mZeroDivisionError\u001b[0m                         Traceback (most recent call last)",
      "Cell \u001b[1;32mIn[17], line 3\u001b[0m\n\u001b[0;32m      1\u001b[0m p \u001b[39m=\u001b[39m \u001b[39m10\u001b[39m\n\u001b[0;32m      2\u001b[0m b \u001b[39m=\u001b[39m \u001b[39m0\u001b[39m\n\u001b[1;32m----> 3\u001b[0m \u001b[39mprint\u001b[39m(p\u001b[39m/\u001b[39;49mb)\n",
      "\u001b[1;31mZeroDivisionError\u001b[0m: division by zero"
     ]
    }
   ],
   "source": [
    "p = 10\n",
    "b = 0\n",
    "print(p/b)"
   ]
  },
  {
   "cell_type": "markdown",
   "id": "efc03e99",
   "metadata": {},
   "source": [
    "Dalam contoh di atas kita ingin membagi variabel p dengen variabel b,yang menyebabkan ZeroDivisionError."
   ]
  },
  {
   "cell_type": "markdown",
   "id": "b66354b2",
   "metadata": {},
   "source": [
    "<h1>2</h1>\n",
    "<h2>Exception Handling</h2>\n",
    "Exception handling adalah proses menangani dan menanggapi kesalahan (exception) yang mungkin terjadi pada saat program dijalankan. Ini memungkinkan program untuk terus berjalan meskipun kesalahan terjadi, sehingga program dapat menangani kesalahan secara efektif dan menghindari crash"
   ]
  },
  {
   "cell_type": "code",
   "execution_count": 18,
   "id": "4e7fed1f",
   "metadata": {},
   "outputs": [
    {
     "name": "stdout",
     "output_type": "stream",
     "text": [
      "Error: Could not read file\n"
     ]
    }
   ],
   "source": [
    "try:\n",
    "    f = open(\"myfile.txt\", \"r\")\n",
    "    content = f.read()\n",
    "    f.close()\n",
    "except IOError:\n",
    "    print(\"Error: Could not read file\")\n"
   ]
  },
  {
   "cell_type": "markdown",
   "id": "caec2986",
   "metadata": {},
   "source": [
    "Dalam contoh ini, kita mencoba untuk membuka, membaca dan menutup file \"myfile.txt\" dalam blok try. Jika terjadi kesalahan saat mencoba untuk membuka atau membaca file (IOError), kode dalam blok except akan dieksekusi, yang mencetak pesan \"Error: Could not read file\" ke layar. Ini memungkinkan program untuk terus berjalan meskipun kesalahan terjadi saat mencoba untuk mengakses file.\n",
    "\n",
    "Selain except, kita juga bisa menggunakan else dan finally untuk menangani kesalahan. else akan dijalankan jika tidak terjadi kesalahan di dalam try block, finally akan dijalankan setelah try block selesai dijalankan, apapun hasil dari try block"
   ]
  },
  {
   "cell_type": "markdown",
   "id": "0f7bcd7e",
   "metadata": {},
   "source": [
    "<h2>Menangkap exception</h2>\n",
    "Menangkap exception adalah proses untuk menangani kesalahan yang mungkin terjadi pada saat program dijalankan. Ini dilakukan dengan menggunakan pernyataan try dan except.\n",
    "\n",
    "Pernyataan try digunakan untuk menempatkan kode yang mungkin menyebabkan kesalahan. Jika kesalahan terjadi, eksekusi kode akan dihentikan dan kontrol akan diteruskan ke blok except yang sesuai.\n",
    "\n",
    "Contoh:\n"
   ]
  },
  {
   "cell_type": "code",
   "execution_count": 19,
   "id": "db229879",
   "metadata": {},
   "outputs": [
    {
     "name": "stdout",
     "output_type": "stream",
     "text": [
      "Error: Cannot divide by zero\n"
     ]
    }
   ],
   "source": [
    "try:\n",
    "    result = 5 / 0\n",
    "except ZeroDivisionError:\n",
    "    print(\"Error: Cannot divide by zero\")\n"
   ]
  },
  {
   "cell_type": "markdown",
   "id": "02668fe6",
   "metadata": {},
   "source": [
    "Dalam contoh di atas, kita menempatkan kode yang mungkin menyebabkan kesalahan (membagi dengan nol) dalam blok try. Jika kesalahan (ZeroDivisionError) terjadi, kode dalam blok except akan dieksekusi, yang mencetak pesan \"Error: Cannot divide by zero\" ke layar. Dengan menangani kesalahan ini, program dapat terus berjalan tanpa crash.\n",
    "\n",
    "Anda juga dapat menangkap lebih dari satu jenis kesalahan dengan menggunakan lebih dari satu blok except :"
   ]
  },
  {
   "cell_type": "code",
   "execution_count": 1,
   "id": "30a9da87",
   "metadata": {},
   "outputs": [
    {
     "name": "stdout",
     "output_type": "stream",
     "text": [
      "Error: Please enter a valid number\n"
     ]
    }
   ],
   "source": [
    "try:\n",
    "    value = int(input(\"Enter a number: \"))\n",
    "    result = 5 / value\n",
    "except ValueError:\n",
    "    print(\"Error: Please enter a valid number\")\n",
    "except ZeroDivisionError:\n",
    "    print(\"Error: Cannot divide by zero\")\n"
   ]
  },
  {
   "cell_type": "markdown",
   "id": "f160bd5d",
   "metadata": {},
   "source": [
    "Dalam contoh ini, kita mencoba untuk mengonversi input ke integer dan membagi 5 dengan nilai tersebut dalam blok try. Jika terjadi kesalahan saat mencoba untuk mengonversi input (ValueError), kode dalam blok except pertama akan dieksekusi. Jika terjadi kesalahan saat membagi dengan nol (ZeroDivisionError), kode dalam blok except kedua akan dieksekusi."
   ]
  }
 ],
 "metadata": {
  "kernelspec": {
   "display_name": "Python 3 (ipykernel)",
   "language": "python",
   "name": "python3"
  },
  "language_info": {
   "codemirror_mode": {
    "name": "ipython",
    "version": 3
   },
   "file_extension": ".py",
   "mimetype": "text/x-python",
   "name": "python",
   "nbconvert_exporter": "python",
   "pygments_lexer": "ipython3",
   "version": "3.9.13"
  },
  "vscode": {
   "interpreter": {
    "hash": "bdb715d3f28895bf8d1f1f0337a53a101c9666f588645ae97659721ee0d271c0"
   }
  }
 },
 "nbformat": 4,
 "nbformat_minor": 5
}
