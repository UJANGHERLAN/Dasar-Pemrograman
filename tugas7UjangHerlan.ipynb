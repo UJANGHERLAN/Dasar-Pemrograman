{
 "cells": [
  {
   "cell_type": "code",
   "execution_count": 8,
   "id": "91e6bb6e",
   "metadata": {},
   "outputs": [
    {
     "name": "stdout",
     "output_type": "stream",
     "text": [
      "======Program untuk membalik sebuah kalimat=====\n",
      "Masukan Kalimat :LUPA-LUPA INGAT\n",
      "Kalimat sebelum di balik yaitu : LUPA-LUPA INGAT\n",
      "Kalimat setelah di balik adalah : TAGNI APUL-APUL\n",
      "==================Selesai=======================\n"
     ]
    }
   ],
   "source": [
    "print(\"======Program untuk membalik sebuah kalimat=====\")\n",
    "kalimat = str(input(\"Masukan Kalimat :\"))\n",
    "balik = \"\"\n",
    "\n",
    "for i in range(len(kalimat)-1,-1,-1):\n",
    "    balik +=kalimat[i]\n",
    "print(\"Kalimat sebelum di balik yaitu :\",kalimat)\n",
    "print(\"Kalimat setelah di balik adalah :\",balik) \n",
    "print(\"==================Selesai=======================\")"
   ]
  },
  {
   "cell_type": "code",
   "execution_count": 7,
   "id": "b97c0213",
   "metadata": {},
   "outputs": [
    {
     "name": "stdout",
     "output_type": "stream",
     "text": [
      "=====Program menghitung jumlah masing-masing huruf vokal=====\n",
      "Kalimatnya yaitu : Universitas Nusa Putera\n",
      "Jumlah Huruf A = 3\n",
      "Jumlah Huruf I = 2\n",
      "Jumlah Huruf U = 3\n",
      "Jumlah Huruf E = 2\n",
      "Jumlah Huruf O = 0\n",
      "Total jumlah huruf vokal = 10\n",
      "=========================Selesai============================\n",
      "\n"
     ]
    }
   ],
   "source": [
    "print(\"=====Program menghitung jumlah masing-masing huruf vokal=====\")\n",
    "\n",
    "teks = \"Universitas Nusa Putera\"\n",
    "huruf_vokal = {'a':0, 'i':0, 'u':0, 'e':0, 'o':0}\n",
    "total = 0\n",
    "for vokal in teks.lower():\n",
    "    if vokal in ['a','i','u','e','o']:\n",
    "        huruf_vokal[vokal] +=1\n",
    "        total +=1\n",
    "print(f\"Kalimatnya yaitu : {teks}\")\n",
    "print(f\"Jumlah Huruf A = {huruf_vokal['a']}\")\n",
    "print(f\"Jumlah Huruf I = {huruf_vokal['i']}\")\n",
    "print(f\"Jumlah Huruf U = {huruf_vokal['u']}\")\n",
    "print(f\"Jumlah Huruf E = {huruf_vokal['e']}\")\n",
    "print(f\"Jumlah Huruf O = {huruf_vokal['o']}\")\n",
    "print(f\"Total jumlah huruf vokal = {total}\")\n",
    "print(\"=========================Selesai============================\\n\")"
   ]
  }
 ],
 "metadata": {
  "kernelspec": {
   "display_name": "Python 3 (ipykernel)",
   "language": "python",
   "name": "python3"
  },
  "language_info": {
   "codemirror_mode": {
    "name": "ipython",
    "version": 3
   },
   "file_extension": ".py",
   "mimetype": "text/x-python",
   "name": "python",
   "nbconvert_exporter": "python",
   "pygments_lexer": "ipython3",
   "version": "3.9.12"
  }
 },
 "nbformat": 4,
 "nbformat_minor": 5
}
